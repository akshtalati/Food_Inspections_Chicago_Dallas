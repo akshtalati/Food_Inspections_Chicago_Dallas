{
 "cells": [
  {
   "cell_type": "code",
   "execution_count": 0,
   "metadata": {
    "application/vnd.databricks.v1+cell": {
     "cellMetadata": {
      "byteLimit": 2048000,
      "rowLimit": 10000
     },
     "inputWidgets": {},
     "nuid": "5cbea801-7b22-4e84-b0b2-4a073a0bfd87",
     "showTitle": false,
     "tableResultSettingsMap": {},
     "title": ""
    }
   },
   "outputs": [],
   "source": [
    "df1 = spark.read.format(\"csv\").option(\"header\", \"true\").load(\"dbfs:/FileStore/shared_uploads/talati.ak@northeastern.edu/Chicago_profiling.csv\")"
   ]
  },
  {
   "cell_type": "code",
   "execution_count": 0,
   "metadata": {
    "application/vnd.databricks.v1+cell": {
     "cellMetadata": {
      "byteLimit": 2048000,
      "rowLimit": 10000
     },
     "inputWidgets": {},
     "nuid": "55c71c7b-d1de-44bc-affc-434ea14ce037",
     "showTitle": false,
     "tableResultSettingsMap": {},
     "title": ""
    }
   },
   "outputs": [
    {
     "output_type": "stream",
     "name": "stdout",
     "output_type": "stream",
     "text": [
      "Schema:\nroot\n |-- Inspection ID: string (nullable = true)\n |-- DBA Name: string (nullable = true)\n |-- AKA Name: string (nullable = true)\n |-- License #: string (nullable = true)\n |-- Facility Type: string (nullable = true)\n |-- Risk: string (nullable = true)\n |-- Address: string (nullable = true)\n |-- City: string (nullable = true)\n |-- State: string (nullable = true)\n |-- Zip: string (nullable = true)\n |-- Inspection Date: string (nullable = true)\n |-- Inspection Type: string (nullable = true)\n |-- Results: string (nullable = true)\n |-- Violations: string (nullable = true)\n |-- Latitude: string (nullable = true)\n |-- Longitude: string (nullable = true)\n |-- Location: string (nullable = true)\n\n"
     ]
    }
   ],
   "source": [
    "print(\"Schema:\")\n",
    "df1.printSchema()"
   ]
  },
  {
   "cell_type": "code",
   "execution_count": 0,
   "metadata": {
    "application/vnd.databricks.v1+cell": {
     "cellMetadata": {
      "byteLimit": 2048000,
      "rowLimit": 10000
     },
     "inputWidgets": {},
     "nuid": "b189c3f1-1ce6-490d-b70b-4b5a09698be9",
     "showTitle": false,
     "tableResultSettingsMap": {},
     "title": ""
    }
   },
   "outputs": [
    {
     "output_type": "stream",
     "name": "stdout",
     "output_type": "stream",
     "text": [
      "Total Rows: 130462\nTotal Columns: 17\n"
     ]
    }
   ],
   "source": [
    "print(\"Total Rows:\", df1.count())\n",
    "print(\"Total Columns:\", len(df1.columns))"
   ]
  },
  {
   "cell_type": "code",
   "execution_count": 0,
   "metadata": {
    "application/vnd.databricks.v1+cell": {
     "cellMetadata": {
      "byteLimit": 2048000,
      "rowLimit": 10000
     },
     "inputWidgets": {},
     "nuid": "8cf2dc6f-7298-4ec1-9818-fc78065c5d3b",
     "showTitle": false,
     "tableResultSettingsMap": {},
     "title": ""
    }
   },
   "outputs": [
    {
     "output_type": "stream",
     "name": "stdout",
     "output_type": "stream",
     "text": [
      "+-------------+--------------------+--------------------+---------+-------------+-------------+--------------------+-------+-----+-------+---------------+---------------+------------------+--------------------+--------------------+--------------------+--------------------+\n|Inspection ID|            DBA Name|            AKA Name|License #|Facility Type|         Risk|             Address|   City|State|    Zip|Inspection Date|Inspection Type|           Results|          Violations|            Latitude|           Longitude|            Location|\n+-------------+--------------------+--------------------+---------+-------------+-------------+--------------------+-------+-----+-------+---------------+---------------+------------------+--------------------+--------------------+--------------------+--------------------+\n|      2485006|     JOAN DACHS BAIS|      JOAN DACH BAIS|2225390.0|       School| Risk 3 (Low)| 3200 W PETERSON AVE|CHICAGO|   IL|60659.0|     2021-02-22|        Canvass|Pass w/ Conditions|3. MANAGEMENT, FO...|   41.99049312958032|   -87.7091921904396|(41.9904931295803...|\n|      2497700|   CURLY'S DELI MART|       ONE STOP SHOP|2767150.0|Grocery Store|Risk 1 (High)|200-206 S CICERO AVE|CHICAGO|   IL|60644.0|     2021-04-02|        License|              Fail|3. MANAGEMENT, FO...|  41.878565958181454|   -87.7453536723697|(41.8785659581814...|\n|      2497757|BARRACO'S PIZZA A...|BARRACO'S PIZZA A...|2636205.0|   Restaurant|Risk 1 (High)| 2105-2121 W 95TH ST|CHICAGO|   IL|60643.0|     2021-04-05|        Canvass|Pass w/ Conditions|\"10. ADEQUATE HAN...| STORAGE & DISPLA...| MAINTAINED & USE...|         PREP TABLES|\n|      2497958|   HAUGAN ELEMENTARY|   HAUGAN ELEMENTARY|  23591.0|       School|Risk 1 (High)|   4540 N Hamlin AVE|CHICAGO|   IL|60625.0|     2021-04-07|        Canvass|              Pass|55. PHYSICAL FACI...|   41.96403524536502|  -87.72316495595534|(41.9640352453650...|\n|      2498100|               White|               White|  26431.0|       School|Risk 1 (High)|1136 W 122nd St (...|CHICAGO|   IL|60643.0|     2021-04-12|        Canvass|              Fail|10. ADEQUATE HAND...|   41.67233661078134|  -87.65055320582842|(41.6723366107813...|\n+-------------+--------------------+--------------------+---------+-------------+-------------+--------------------+-------+-----+-------+---------------+---------------+------------------+--------------------+--------------------+--------------------+--------------------+\nonly showing top 5 rows\n\n"
     ]
    }
   ],
   "source": [
    "df1.show(5)"
   ]
  },
  {
   "cell_type": "code",
   "execution_count": 0,
   "metadata": {
    "application/vnd.databricks.v1+cell": {
     "cellMetadata": {
      "byteLimit": 2048000,
      "rowLimit": 10000
     },
     "inputWidgets": {},
     "nuid": "55db0b35-1003-4577-b6ff-bfea06e89e0a",
     "showTitle": false,
     "tableResultSettingsMap": {},
     "title": ""
    }
   },
   "outputs": [
    {
     "output_type": "stream",
     "name": "stdout",
     "output_type": "stream",
     "text": [
      "Missing Value Count:\n+-------------+--------+--------+---------+-------------+----+-------+----+-----+---+---------------+---------------+-------+----------+--------+---------+--------+\n|Inspection ID|DBA Name|AKA Name|License #|Facility Type|Risk|Address|City|State|Zip|Inspection Date|Inspection Type|Results|Violations|Latitude|Longitude|Location|\n+-------------+--------+--------+---------+-------------+----+-------+----+-----+---+---------------+---------------+-------+----------+--------+---------+--------+\n|            0|       0|     188|        4|          661|  43|      0| 108|   35|  9|              0|              0|      0|     40266|     457|      466|     468|\n+-------------+--------+--------+---------+-------------+----+-------+----+-----+---+---------------+---------------+-------+----------+--------+---------+--------+\n\n"
     ]
    }
   ],
   "source": [
    "#checking for misssing values\n",
    "from pyspark.sql.functions import col, sum as _sum, when\n",
    "\n",
    "print(\"Missing Value Count:\")\n",
    "null_counts = df1.select([_sum(when(col(c).isNull() | (col(c) == \"\"), 1).otherwise(0)).alias(c) for c in df1.columns])\n",
    "null_counts.show()"
   ]
  },
  {
   "cell_type": "code",
   "execution_count": 0,
   "metadata": {
    "application/vnd.databricks.v1+cell": {
     "cellMetadata": {
      "byteLimit": 2048000,
      "rowLimit": 10000
     },
     "inputWidgets": {},
     "nuid": "f898c8dc-71bb-4719-beb4-2cd526af497a",
     "showTitle": false,
     "tableResultSettingsMap": {},
     "title": ""
    }
   },
   "outputs": [
    {
     "output_type": "stream",
     "name": "stdout",
     "output_type": "stream",
     "text": [
      "Cardinality (Distinct values per column):\nInspection ID: 73165\nDBA Name: 15191\nAKA Name: 14587\nLicense #: 19418\nFacility Type: 226\nRisk: 5\nAddress: 12777\nCity: 40\nState: 5\nZip: 88\nInspection Date: 1037\nInspection Type: 17\nResults: 7\nViolations: 50106\nLatitude: 14222\nLongitude: 15038\nLocation: 14952\n"
     ]
    }
   ],
   "source": [
    "# Distinct values\n",
    "print(\"Cardinality (Distinct values per column):\")\n",
    "for column in df1.columns:\n",
    "    print(f\"{column}: {df1.select(column).distinct().count()}\")\n"
   ]
  },
  {
   "cell_type": "code",
   "execution_count": 0,
   "metadata": {
    "application/vnd.databricks.v1+cell": {
     "cellMetadata": {
      "byteLimit": 2048000,
      "rowLimit": 10000
     },
     "inputWidgets": {},
     "nuid": "fd7e3eb3-eb3e-4d22-9624-b8dcb7b7e37e",
     "showTitle": false,
     "tableResultSettingsMap": {},
     "title": ""
    }
   },
   "outputs": [
    {
     "output_type": "stream",
     "name": "stdout",
     "output_type": "stream",
     "text": [
      "Summary Statistics:\n+-------+\n|summary|\n+-------+\n|  count|\n|   mean|\n| stddev|\n|    min|\n|    max|\n+-------+\n\n"
     ]
    }
   ],
   "source": [
    "print(\"Summary Statistics:\")\n",
    "numeric_cols = [f.name for f in df1.schema.fields if str(f.dataType) in ['IntegerType', 'DoubleType', 'LongType', 'FloatType']]\n",
    "df1.select(numeric_cols).describe().show()"
   ]
  },
  {
   "cell_type": "code",
   "execution_count": 0,
   "metadata": {
    "application/vnd.databricks.v1+cell": {
     "cellMetadata": {
      "byteLimit": 2048000,
      "rowLimit": 10000
     },
     "inputWidgets": {},
     "nuid": "c370ac87-71ff-483b-8c55-e13e419a938a",
     "showTitle": false,
     "tableResultSettingsMap": {},
     "title": ""
    }
   },
   "outputs": [
    {
     "output_type": "stream",
     "name": "stdout",
     "output_type": "stream",
     "text": [
      "Top Values in Categorical Columns:\n+-------------+-----+\n|Inspection ID|count|\n+-------------+-----+\n|2564759      |2    |\n|2567727      |2    |\n|2559471      |2    |\n|2546176      |2    |\n|2568702      |2    |\n+-------------+-----+\nonly showing top 5 rows\n\n+-------------+-----+\n|DBA Name     |count|\n+-------------+-----+\n|SUBWAY       |1594 |\n|DUNKIN DONUTS|752  |\n|MCDONALD'S   |334  |\n|TACO BELL    |207  |\n|WINGSTOP     |201  |\n+-------------+-----+\nonly showing top 5 rows\n\n+-------------+-----+\n|AKA Name     |count|\n+-------------+-----+\n|SUBWAY       |1946 |\n|DUNKIN DONUTS|707  |\n|MCDONALD'S   |416  |\n|7-ELEVEN     |388  |\n|WENDY'S      |338  |\n+-------------+-----+\nonly showing top 5 rows\n\n+---------+-----+\n|License #|count|\n+---------+-----+\n|0.0      |352  |\n|2594606.0|48   |\n|2470443.0|44   |\n|2594633.0|44   |\n|2163775.0|41   |\n+---------+-----+\nonly showing top 5 rows\n\n+-------------------------------+-----+\n|Facility Type                  |count|\n+-------------------------------+-----+\n|Restaurant                     |91449|\n|Grocery Store                  |12615|\n|School                         |8775 |\n|Children's Services Facility   |4534 |\n|Daycare Above and Under 2 Years|2007 |\n+-------------------------------+-----+\nonly showing top 5 rows\n\n+---------------+------+\n|Risk           |count |\n+---------------+------+\n|Risk 1 (High)  |104441|\n|Risk 2 (Medium)|19395 |\n|Risk 3 (Low)   |6513  |\n|All            |70    |\n|null           |43    |\n+---------------+------+\n\n+-----------------+-----+\n|Address          |count|\n+-----------------+-----+\n|11601 W TOUHY AVE|1537 |\n|2300 S THROOP ST |427  |\n|5700 S CICERO AVE|420  |\n|600 E GRAND AVE  |259  |\n|135 N KEDZIE AVE |231  |\n+-----------------+-----+\nonly showing top 5 rows\n\n+--------+------+\n|City    |count |\n+--------+------+\n|CHICAGO |129913|\n|Chicago |198   |\n|null    |108   |\n|chicago |71    |\n|CCHICAGO|27    |\n+--------+------+\nonly showing top 5 rows\n\n+-----+------+\n|State|count |\n+-----+------+\n|IL   |130406|\n|null |35    |\n|IN   |16    |\n|CA   |3     |\n|CO   |2     |\n+-----+------+\n\n+-------+-----+\n|Zip    |count|\n+-------+-----+\n|60647.0|4852 |\n|60614.0|4573 |\n|60611.0|4468 |\n|60618.0|4413 |\n|60608.0|4150 |\n+-------+-----+\nonly showing top 5 rows\n\n+---------------+-----+\n|Inspection Date|count|\n+---------------+-----+\n|2024-10-08     |250  |\n|2024-10-01     |246  |\n|2024-01-17     |238  |\n|2024-09-23     |234  |\n|2025-01-27     |234  |\n+---------------+-----+\nonly showing top 5 rows\n\n+---------------------+-----+\n|Inspection Type      |count|\n+---------------------+-----+\n|Canvass              |63852|\n|License              |17580|\n|Canvass Re-Inspection|16504|\n|Complaint            |12822|\n|Non-Inspection       |6968 |\n+---------------------+-----+\nonly showing top 5 rows\n\n+------------------+-----+\n|Results           |count|\n+------------------+-----+\n|Pass              |64935|\n|Fail              |25911|\n|Pass w/ Conditions|18681|\n|Out of Business   |9596 |\n|No Entry          |8589 |\n+------------------+-----+\nonly showing top 5 rows\n\n+---------------------------------------------------------------------------------------------------------------------------------------------------------------------------------------------------------------------------------+-----+\n|Violations                                                                                                                                                                                                                       |count|\n+---------------------------------------------------------------------------------------------------------------------------------------------------------------------------------------------------------------------------------+-----+\n|null                                                                                                                                                                                                                             |40266|\n|58. ALLERGEN TRAINING AS REQUIRED - Comments: OBSERVED FOOD SERVICE SANITATION MANAGER WITHOUT FOOD ALLERGEN TRAINING CERTIFICATE. INSTRUCTED TO MEET REQUIREMENT.                                                               |21   |\n|58. ALLERGEN TRAINING AS REQUIRED - Comments: OBSERVED THE CITY OF CHICAGO FOOD CERTIFIED MANAGER WITH NO PROOF OF ALLERGEN TRAINING CERTIFICATE. INSTRUCTED ALL CITY OF CHICAGO CERTIFIED FOOD MANAGERS OBTAIN THIS CERTIFICATE.|20   |\n|57. ALL FOOD EMPLOYEES HAVE FOOD HANDLER TRAINING - Comments: OBSERVED NO PROOF OF TRAINING FOR ALL FOOD HANDLERS. INSTRUCTED TO PROVIDE AND MAINTAIN RECORDS AT ALL TIMES.                                                      |20   |\n|58. ALLERGEN TRAINING AS REQUIRED - Comments: FOUND SANITATION MANAGER WITH NO ALLERGEN TRAINING. MUST PROVIDE.                                                                                                                  |14   |\n+---------------------------------------------------------------------------------------------------------------------------------------------------------------------------------------------------------------------------------+-----+\nonly showing top 5 rows\n\n+------------------+-----+\n|Latitude          |count|\n+------------------+-----+\n|42.00875076599798 |1454 |\n| PROPERLY DESIGNED|1193 |\n|null              |457  |\n|41.85045102427    |441  |\n|41.789329323265385|423  |\n+------------------+-----+\nonly showing top 5 rows\n\n+------------------+-----+\n|Longitude         |count|\n+------------------+-----+\n|-87.90687413400109|1454 |\n|null              |466  |\n|-87.65879785567869|441  |\n|-87.74164564419637|423  |\n| PROPERLY DESIGNED|297  |\n+------------------+-----+\nonly showing top 5 rows\n\n+----------------------------------------+-----+\n|Location                                |count|\n+----------------------------------------+-----+\n|(42.00875076599798, -87.90687413400109) |1454 |\n|null                                    |468  |\n|(41.85045102427, -87.65879785567869)    |441  |\n| PROPERLY DESIGNED                      |423  |\n|(41.789329323265385, -87.74164564419637)|423  |\n+----------------------------------------+-----+\nonly showing top 5 rows\n\n"
     ]
    }
   ],
   "source": [
    "print(\"Top Values in Categorical Columns:\")\n",
    "cat_cols = [f.name for f in df1.schema.fields if f.dataType.simpleString() == 'string']\n",
    "for col_name in cat_cols:\n",
    "    df1.groupBy(col_name).count().orderBy(\"count\", ascending=False).show(5, truncate=False)\n"
   ]
  },
  {
   "cell_type": "code",
   "execution_count": 0,
   "metadata": {
    "application/vnd.databricks.v1+cell": {
     "cellMetadata": {
      "byteLimit": 2048000,
      "rowLimit": 10000
     },
     "inputWidgets": {},
     "nuid": "59807dcc-a3fa-454e-9454-96429d171512",
     "showTitle": false,
     "tableResultSettingsMap": {},
     "title": ""
    }
   },
   "outputs": [
    {
     "output_type": "stream",
     "name": "stdout",
     "output_type": "stream",
     "text": [
      "Duplicate Rows:\n+-------------+--------------------+--------------------+---------+-------------+---------------+--------------------+-------+-----+-------+---------------+--------------------+------------------+--------------------+------------------+--------------------+--------------------+-----+\n|Inspection ID|            DBA Name|            AKA Name|License #|Facility Type|           Risk|             Address|   City|State|    Zip|Inspection Date|     Inspection Type|           Results|          Violations|          Latitude|           Longitude|            Location|count|\n+-------------+--------------------+--------------------+---------+-------------+---------------+--------------------+-------+-----+-------+---------------+--------------------+------------------+--------------------+------------------+--------------------+--------------------+-----+\n|      2546105|UNCLE JOES JERK C...|UNCLE JOES JERK C...|2684579.0|   Restaurant|  Risk 1 (High)|       205 W 87TH ST|CHICAGO|   IL|60620.0|     2022-01-04|           Complaint|Pass w/ Conditions|1. PERSON IN CHAR...| 41.73603017519755|   -87.6290945085756|(41.7360301751975...|    2|\n|      2566520|ANN SATHER RESTAU...|ANN SATHER RESTAU...|1874185.0|   Restaurant|Risk 2 (Medium)|   909 W BELMONT AVE|CHICAGO|   IL|60657.0|     2022-11-02|             Canvass|              Pass|39. CONTAMINATION...| 41.93983331895479|  -87.65195464509658|(41.9398333189547...|    2|\n|      2552342|BLUE DOOR FARM ST...|BLUE DOOR FARM ST...|2428971.0|   Restaurant|  Risk 1 (High)|  711 W ARMITAGE AVE|CHICAGO|   IL|60614.0|     2022-03-01|             Canvass|              Pass|47. FOOD & NON-FO...| 41.91809714268833|  -87.64658724128225|(41.9180971426883...|    2|\n|      2562100|JEWEL FOOD STORE ...|JEWEL FOOD STORE ...|1225534.0|Grocery Store|  Risk 1 (High)|   6107 S ARCHER AVE|CHICAGO|   IL|60638.0|     2022-08-15|           Complaint|              Pass|10. ADEQUATE HAND...| 41.79435485319725|  -87.77052715211342|(41.7943548531972...|    2|\n|      2563150|TAQUERIA LA ESQUI...|TAQUERIA LA ESQUI...|2326354.0|   Restaurant|  Risk 1 (High)|    6924 W GRAND AVE|CHICAGO|   IL|60707.0|     2022-09-01|             Canvass|Pass w/ Conditions|\"22. PROPER COLD ...| PROPERLY DESIGNED| CONSTRUCTED & US...|   PROPERLY DESIGNED|    2|\n|      2565128|MOY LEE CHINESE R...|MOY LEE CHINESE R...|2698794.0|   Restaurant|  Risk 1 (High)|5346 N MILWAUKEE AVE|CHICAGO|   IL|60630.0|     2022-10-11|             Canvass|              Fail|10. ADEQUATE HAND...| 41.97776393135019|  -87.76982985082259|(41.9777639313501...|    2|\n|      2549536|Lincoln Park Academy|   FRESHMAN BUILDING|1878494.0|       School|Risk 2 (Medium)|  2021 N Burling AVE|CHICAGO|   IL|60614.0|     2022-02-08|             Canvass|Pass w/ Conditions|8. HANDS CLEAN & ...|  41.9189010987926|  -87.64717807164104|(41.9189010987926...|    2|\n|      2569060|SAVANNAH SUPPER CLUB|SAVANNAH SUPPER CLUB|2334077.0|   Restaurant|  Risk 1 (High)|    2116 W ROSCOE ST|CHICAGO|   IL|60618.0|     2022-12-28|Canvass Re-Inspec...|              Pass|55. PHYSICAL FACI...| 41.94328755260558|  -87.68161181280485|(41.9432875526055...|    2|\n|      2556183|ESPERANZA'S KITCH...|      CONNIE'S PIZZA|2589058.0|   Restaurant|  Risk 1 (High)|2301 S LAKE SHORE DR|CHICAGO|   IL|60616.0|     2022-05-23|             Canvass|              Fail|38. INSECTS, RODE...|41.851107480190045|  -87.61286663254377|(41.8511074801900...|    2|\n|      2568153| SORA TEMAKERIA, LLC| SORA TEMAKERIA, LLC|2569202.0|   Restaurant|  Risk 1 (High)|      3508 W 26TH ST|CHICAGO|   IL|60623.0|     2022-12-07|             Canvass|Pass w/ Conditions|22. PROPER COLD H...| 41.84451619427469|  -87.71277572197552|(41.8445161942746...|    2|\n|      2568159|        #1 CHOP SUEY|        #1 CHOP SUEY|2835290.0|   Restaurant|  Risk 1 (High)|4307 W IRVING PAR...|CHICAGO|   IL|60641.0|     2022-12-07|             Canvass|Pass w/ Conditions|3. MANAGEMENT, FO...|  41.9534434499878|  -87.73576333403281|(41.9534434499877...|    2|\n|      2568292|             FOXTROT|             FOXTROT|2808217.0|   Restaurant|Risk 2 (Medium)|       23 W MAPLE ST|CHICAGO|   IL|60610.0|     2022-12-09|Short Form Complaint|Pass w/ Conditions|2. CITY OF CHICAG...| 41.90176190733117|   -87.6293413001706|(41.9017619073311...|    2|\n|      2568516|            BIN 5700|            BIN 5700|2511391.0|   Restaurant|  Risk 1 (High)|   5700 S CICERO AVE|CHICAGO|   IL|60638.0|     2022-12-14|             Canvass|              Pass|55. PHYSICAL FACI...|41.789329323265385|  -87.74164564419637|(41.7893293232653...|    2|\n|      2561973|         CAFE PRAGUE|         CAFE PRAGUE|1224303.0|   Restaurant|  Risk 1 (High)|6710-6712 W BELMO...|CHICAGO|   IL|60634.0|     2022-08-11|Canvass Re-Inspec...|              Pass|55. PHYSICAL FACI...| 41.93830133183268|  -87.79374071818236|(41.9383013318326...|    2|\n|      2561557|LAO SZE CHUAN GRA...|       LAO SZE CHUAN|2781162.0|   Restaurant|  Risk 1 (High)|614-616 S WABASH AVE|CHICAGO|   IL|60605.0|     2022-08-01|             Canvass|              Fail|1. PERSON IN CHAR...| 41.87406368049494|  -87.62613531222232|(41.8740636804949...|    2|\n|      2564302|          Oromo Cafe|          Oromo Cafe|2464339.0|   Restaurant|  Risk 1 (High)|  4703 N Lincoln AVE|CHICAGO|   IL|60625.0|     2022-09-26|           Complaint|Pass w/ Conditions|1. PERSON IN CHAR...| 41.96674098542116|   -87.6871535570378|(41.9667409854211...|    2|\n|      2563815|SOUTH SHORE FINE ...|SOUTH SHORE FINE ...|3247065.0|       School|  Risk 1 (High)|      1415 E 70TH ST|CHICAGO|   IL|60637.0|     2022-09-16|             Canvass|              Pass|10. ADEQUATE HAND...| 41.76772772143584|  -87.59039017486883|(41.7677277214358...|    2|\n|      2566186|LITTLE CLOWN PIZZ...|LITTLE CLOWN PIZZ...|2288917.0|   Restaurant|  Risk 1 (High)|2801 N CENTRAL PA...|CHICAGO|   IL|60618.0|     2022-10-28|             Canvass|              Fail|10. ADEQUATE HAND...| 41.93195794616993|  -87.71704869968485|(41.9319579461699...|    2|\n|      2566707|Similan Thai - Su...|Similan Thai - Su...|2762570.0|   Restaurant|  Risk 1 (High)|1123 W GRANVILLE AVE|CHICAGO|   IL|60660.0|     2022-11-07|Complaint Re-Insp...|              Pass|47. FOOD & NON-FO...| 41.99445468812601|  -87.65928902174647|(41.9944546881260...|    2|\n|      2562280|CHICAGO PIT STOP BBQ|CHICAGO PIT STOP BBQ|1696182.0|   Restaurant|  Risk 1 (High)|  6514 S WESTERN AVE|CHICAGO|   IL|60636.0|     2022-08-17|Canvass Re-Inspec...|              Fail|10. ADEQUATE HAND...| 41.77511152013113|  -87.68367904074279|(41.7751115201311...|    2|\n+-------------+--------------------+--------------------+---------+-------------+---------------+--------------------+-------+-----+-------+---------------+--------------------+------------------+--------------------+------------------+--------------------+--------------------+-----+\nonly showing top 20 rows\n\n"
     ]
    }
   ],
   "source": [
    "print(\"Duplicate Rows:\")\n",
    "df1.groupBy(df1.columns).count().filter(\"count > 1\").show()"
   ]
  }
 ],
 "metadata": {
  "application/vnd.databricks.v1+notebook": {
   "computePreferences": null,
   "dashboards": [],
   "environmentMetadata": {
    "base_environment": "",
    "environment_version": "1"
   },
   "inputWidgetPreferences": null,
   "language": "python",
   "notebookMetadata": {
    "pythonIndentUnit": 4
   },
   "notebookName": "Untitled Notebook 2025-04-18 18:49:37",
   "widgets": {}
  }
 },
 "nbformat": 4,
 "nbformat_minor": 0
}